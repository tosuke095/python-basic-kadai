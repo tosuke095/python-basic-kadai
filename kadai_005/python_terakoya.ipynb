{
  "nbformat": 4,
  "nbformat_minor": 0,
  "metadata": {
    "colab": {
      "provenance": [],
      "gpuType": "T4"
    },
    "kernelspec": {
      "name": "python3",
      "display_name": "Python 3"
    },
    "language_info": {
      "name": "python"
    },
    "accelerator": "GPU"
  },
  "cells": [
    {
      "cell_type": "code",
      "execution_count": 9,
      "metadata": {
        "colab": {
          "base_uri": "https://localhost:8080/"
        },
        "id": "sJ_lCptviYxy",
        "outputId": "4c9fe8e9-dbd7-45dd-d7b9-29986e4decbc"
      },
      "outputs": [
        {
          "output_type": "stream",
          "name": "stdout",
          "text": [
            "75.0㎠\n"
          ]
        }
      ],
      "source": [
        "zyohen = 10\n",
        "kahen = 20\n",
        "height = 5\n",
        "print(str((zyohen + kahen)* height / 2) + \"㎠\")"
      ]
    },
    {
      "cell_type": "code",
      "source": [],
      "metadata": {
        "id": "mqzxj76SiuJ7"
      },
      "execution_count": null,
      "outputs": []
    }
  ]
}
