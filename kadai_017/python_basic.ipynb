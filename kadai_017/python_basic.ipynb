{
  "nbformat": 4,
  "nbformat_minor": 0,
  "metadata": {
    "colab": {
      "provenance": [],
      "authorship_tag": "ABX9TyO85KMLLemGoOOO/uPlu7gl",
      "include_colab_link": true
    },
    "kernelspec": {
      "name": "python3",
      "display_name": "Python 3"
    },
    "language_info": {
      "name": "python"
    }
  },
  "cells": [
    {
      "cell_type": "markdown",
      "metadata": {
        "id": "view-in-github",
        "colab_type": "text"
      },
      "source": [
        "<a href=\"https://colab.research.google.com/github/tosuke095/python-basic-kadai/blob/main/python_basic.ipynb\" target=\"_parent\"><img src=\"https://colab.research.google.com/assets/colab-badge.svg\" alt=\"Open In Colab\"/></a>"
      ]
    },
    {
      "cell_type": "code",
      "execution_count": 46,
      "metadata": {
        "colab": {
          "base_uri": "https://localhost:8080/"
        },
        "id": "3AcQlwUq-0ri",
        "outputId": "dc73067c-a2f7-480b-8dfc-48b180a5c3ce"
      },
      "outputs": [
        {
          "output_type": "stream",
          "name": "stdout",
          "text": [
            "大人\n",
            "大人でない\n"
          ]
        }
      ],
      "source": [
        "class Human:\n",
        "  def __init__(self, name, age):\n",
        "    self.name = name\n",
        "    self.age = age\n",
        "  def check_adult(self):\n",
        "      if self.age >= 20:\n",
        "        print(\"大人\")\n",
        "      else:\n",
        "        print(\"大人でない\")\n",
        "\n",
        "human_list = [Human(\"侍太郎\", 26), Human(\"侍次郎\", 19)]\n",
        "\n",
        "for Human in human_list:\n",
        "  Human.check_adult()"
      ]
    },
    {
      "cell_type": "code",
      "source": [
        "class Human:\n",
        "  def __init__(self, name, age):\n",
        "    self.name = name\n",
        "    self.age = age\n",
        "  def check_adult(self):\n",
        "      if self.age >= 20:\n",
        "        print(\"大人\")\n",
        "      else:\n",
        "        print(\"大人でない\")\n",
        "\n",
        "human1 = Human(\"太郎\", 26)\n",
        "human2 = Human(\"次郎\",19)\n",
        "\n",
        "human_list = [human1, human2]\n",
        "\n",
        "for Human in human_list:\n",
        "  Human.check_adult()"
      ],
      "metadata": {
        "colab": {
          "base_uri": "https://localhost:8080/"
        },
        "id": "NMNfc9PbGr7L",
        "outputId": "b9f322e4-8bff-40f3-b83a-2e335dc85ced"
      },
      "execution_count": 47,
      "outputs": [
        {
          "output_type": "stream",
          "name": "stdout",
          "text": [
            "大人\n",
            "大人でない\n"
          ]
        }
      ]
    },
    {
      "cell_type": "code",
      "source": [],
      "metadata": {
        "id": "iBpwls5dG9M4"
      },
      "execution_count": null,
      "outputs": []
    }
  ]
}
