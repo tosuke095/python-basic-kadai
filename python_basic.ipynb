{
  "nbformat": 4,
  "nbformat_minor": 0,
  "metadata": {
    "colab": {
      "provenance": [],
      "authorship_tag": "ABX9TyMp2VoUOuffXbwEa8hvmbNz",
      "include_colab_link": true
    },
    "kernelspec": {
      "name": "python3",
      "display_name": "Python 3"
    },
    "language_info": {
      "name": "python"
    }
  },
  "cells": [
    {
      "cell_type": "markdown",
      "metadata": {
        "id": "view-in-github",
        "colab_type": "text"
      },
      "source": [
        "<a href=\"https://colab.research.google.com/github/tosuke095/python-basic-kadai/blob/main/python_basic.ipynb\" target=\"_parent\"><img src=\"https://colab.research.google.com/assets/colab-badge.svg\" alt=\"Open In Colab\"/></a>"
      ]
    },
    {
      "cell_type": "code",
      "execution_count": 51,
      "metadata": {
        "colab": {
          "base_uri": "https://localhost:8080/"
        },
        "id": "3AcQlwUq-0ri",
        "outputId": "0521c17d-58a1-4c15-8db6-49a94c6a3cf1"
      },
      "outputs": [
        {
          "output_type": "stream",
          "name": "stdout",
          "text": [
            "侍太郎は大人\n",
            "侍次郎は大人でない\n"
          ]
        }
      ],
      "source": [
        "class Human:\n",
        "  def __init__(self, name, age):\n",
        "    self.name = name\n",
        "    self.age = age\n",
        "  def check_adult(self):\n",
        "      if self.age >= 20:\n",
        "        print(f\"{self.name}は大人\")\n",
        "      else:\n",
        "        print(f\"{self.name}は大人でない\")\n",
        "\n",
        "human_list = [Human(\"侍太郎\", 26), Human(\"侍次郎\", 19)]\n",
        "\n",
        "for human in human_list:\n",
        "  human.check_adult()"
      ]
    },
    {
      "cell_type": "code",
      "source": [],
      "metadata": {
        "colab": {
          "base_uri": "https://localhost:8080/"
        },
        "id": "NMNfc9PbGr7L",
        "outputId": "b9f322e4-8bff-40f3-b83a-2e335dc85ced"
      },
      "execution_count": 47,
      "outputs": [
        {
          "output_type": "stream",
          "name": "stdout",
          "text": [
            "大人\n",
            "大人でない\n"
          ]
        }
      ]
    },
    {
      "cell_type": "code",
      "source": [],
      "metadata": {
        "id": "iBpwls5dG9M4"
      },
      "execution_count": null,
      "outputs": []
    }
  ]
}